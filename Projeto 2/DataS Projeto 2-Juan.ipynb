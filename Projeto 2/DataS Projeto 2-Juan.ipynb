{
 "cells": [
  {
   "cell_type": "markdown",
   "metadata": {},
   "source": [
    "# Projeto 2 - Classificador Automático de Sentimento\n",
    "\n",
    "Você foi contratado por uma empresa parar analisar como os clientes estão reagindo a um determinado produto no Twitter. A empresa deseja que você crie um programa que irá analisar as mensagens disponíveis e classificará como \"relevante\" ou \"irrelevante\". Com isso ela deseja que mensagens negativas, que denigrem o nome do produto, ou que mereçam destaque, disparem um foco de atenção da área de marketing.<br /><br />\n",
    "Como aluno de Ciência dos Dados, você lembrou do Teorema de Bayes, mais especificamente do Classificador Naive-Bayes, que é largamente utilizado em filtros anti-spam de e-mails. O classificador permite calcular qual a probabilidade de uma mensagem ser relevante dadas as palavras em seu conteúdo.<br /><br />\n",
    "Para realizar o MVP (*minimum viable product*) do projeto, você precisa implementar uma versão do classificador que \"aprende\" o que é relevante com uma base de treinamento e compara a performance dos resultados com uma base de testes.<br /><br />\n",
    "Após validado, o seu protótipo poderá também capturar e classificar automaticamente as mensagens da plataforma.\n",
    "\n",
    "## Informações do Projeto\n",
    "\n",
    "Prazo: 13/Set até às 23:59.<br />\n",
    "Grupo: 1 ou 2 pessoas.<br /><br />\n",
    "Entregáveis via GitHub: \n",
    "* Arquivo notebook com o código do classificador, seguindo as orientações abaixo.\n",
    "* Arquivo Excel com as bases de treinamento e teste totalmente classificado.\n",
    "\n",
    "**NÃO disponibilizar o arquivo com os *access keys/tokens* do Twitter.**\n",
    "\n",
    "\n",
    "### Check 3: \n",
    "\n",
    "Até o dia 06 de Setembro às 23:59, o notebook e o xlsx devem estar no Github com as seguintes evidências: \n",
    "    * Conta no twitter criada.\n",
    "    * Produto escolhido.\n",
    "    * Arquivo Excel contendo a base de treinamento e teste já classificado.\n",
    "\n",
    "Sugestão de leitura:<br />\n",
    "http://docs.tweepy.org/en/v3.5.0/index.html<br />\n",
    "https://monkeylearn.com/blog/practical-explanation-naive-bayes-classifier/"
   ]
  },
  {
   "cell_type": "markdown",
   "metadata": {},
   "source": [
    "___\n",
    "\n",
    "## Preparando o ambiente\n",
    "\n",
    "Instalando a biblioteca *tweepy* para realizar a conexão com o Twitter:"
   ]
  },
  {
   "cell_type": "code",
   "execution_count": 1,
   "metadata": {
    "collapsed": true
   },
   "outputs": [],
   "source": [
    "%%capture\n",
    "\n",
    "#Instalando o tweepy\n",
    "!pip install tweepy"
   ]
  },
  {
   "cell_type": "markdown",
   "metadata": {},
   "source": [
    "Importando as Bibliotecas que serão utilizadas. Esteja livre para adicionar outras."
   ]
  },
  {
   "cell_type": "code",
   "execution_count": 2,
   "metadata": {
    "collapsed": true
   },
   "outputs": [],
   "source": [
    "import tweepy\n",
    "import math\n",
    "import os.path\n",
    "import pandas as pd\n",
    "import json\n",
    "from random import shuffle"
   ]
  },
  {
   "cell_type": "markdown",
   "metadata": {},
   "source": [
    "___\n",
    "## Autenticando no  Twitter\n",
    "\n",
    "Para realizar a captura dos dados é necessário ter uma conta cadastrada no twitter:\n",
    "\n",
    "* Conta: ***@arthur_juan***\n",
    "\n",
    "\n",
    "1. Caso ainda não tenha uma: https://twitter.com/signup\n",
    "1. Depois é necessário registrar um app para usar a biblioteca: https://apps.twitter.com/\n",
    "1. Dentro do registro do App, na aba Keys and Access Tokens, anotar os seguintes campos:\n",
    "    1. Consumer Key (API Key)\n",
    "    1. Consumer Secret (API Secret)\n",
    "1. Mais abaixo, gere um Token e anote também:\n",
    "    1. Access Token\n",
    "    1. Access Token Secret\n",
    "    \n",
    "1. Preencha os valores no arquivo \"auth.pass\"\n",
    "\n",
    "**ATENÇÃO**: Nunca divulgue os dados desse arquivo online (GitHub, etc). Ele contém as chaves necessárias para realizar as operações no twitter de forma automática e portanto é equivalente a ser \"hackeado\". De posse desses dados, pessoas mal intencionadas podem fazer todas as operações manuais (tweetar, seguir, bloquear/desbloquear, listar os seguidores, etc). Para efeito do projeto, esse arquivo não precisa ser entregue!!!"
   ]
  },
  {
   "cell_type": "code",
   "execution_count": 25,
   "metadata": {
    "collapsed": true
   },
   "outputs": [],
   "source": [
    "#    API KEY: ZpsQt4djTkQaRfHdIvwM4OVEQ\n",
    "#    API Scret: qnAxY4HpajivQq76Gmz5uzks4Dp5AwMgZh5wopLI0vOYzEZs83\n",
    "#\n",
    "#    Access Token: 904543009957715968-zw2LsSLpUxRXol9z6FxatNjUAT01Wbh\n",
    "#    Access Token Secret: dPULw1D3Q0fvF6CntlbTFvDdn3jO7MSK8e3ZiLfbNKdEJ"
   ]
  },
  {
   "cell_type": "code",
   "execution_count": 26,
   "metadata": {
    "collapsed": true
   },
   "outputs": [],
   "source": [
    "# #Dados de autenticação do twitter:\n",
    "\n",
    "# #Coloque aqui o identificador da conta no twitter: @arthur_juan\n",
    "\n",
    "# #leitura do arquivo no formato JSON\n",
    "# with open('auth.pass') as fp:    \n",
    "#     data = json.load(fp)\n",
    "\n",
    "# #Configurando a biblioteca. Não modificar\n",
    "# auth = tweepy.OAuthHandler(data['consumer_key'], data['consumer_secret'])\n",
    "# auth.set_access_token(data['access_token'], data['access_token_secret'])"
   ]
  },
  {
   "cell_type": "markdown",
   "metadata": {},
   "source": [
    "___\n",
    "## Coletando Dados\n",
    "\n",
    "Agora vamos coletar os dados. Tenha em mente que dependendo do produto escolhido, não haverá uma quantidade significativa de mensagens, ou ainda poder haver muitos retweets.<br /><br /> \n",
    "Configurando:"
   ]
  },
  {
   "cell_type": "code",
   "execution_count": 27,
   "metadata": {
    "collapsed": true
   },
   "outputs": [],
   "source": [
    "# #Produto escolhido:\n",
    "# produto = 'HTC Vive'\n",
    "# nome = \"VIVE-EN\"\n",
    "\n",
    "\n",
    "# #Quantidade mínima de mensagens capturadas:\n",
    "# n = 500\n",
    "# #Quantidade mínima de mensagens para a base de treinamento:\n",
    "# t = 300\n",
    "\n",
    "# #Filtro de língua, escolha uma na tabela ISO 639-1.\n",
    "# lang = 'en'"
   ]
  },
  {
   "cell_type": "markdown",
   "metadata": {},
   "source": [
    "Capturando os dados do twitter:"
   ]
  },
  {
   "cell_type": "code",
   "execution_count": 28,
   "metadata": {
    "collapsed": true
   },
   "outputs": [],
   "source": [
    "# #Cria um objeto para a captura\n",
    "# api = tweepy.API(auth)\n",
    "\n",
    "# #Inicia a captura, para mais detalhes: ver a documentação do tweepy\n",
    "# i = 1\n",
    "# msgs = []\n",
    "# for msg in tweepy.Cursor(api.search, q=produto, lang=lang).items():    \n",
    "#     msgs.append(msg.text.lower())\n",
    "#     i += 1\n",
    "#     if i > n:\n",
    "#         break\n",
    "\n",
    "# #Embaralhando as mensagens para reduzir um possível viés\n",
    "# shuffle(msgs)"
   ]
  },
  {
   "cell_type": "markdown",
   "metadata": {},
   "source": [
    "Salvando os dados em uma planilha Excel:"
   ]
  },
  {
   "cell_type": "code",
   "execution_count": 29,
   "metadata": {
    "collapsed": true
   },
   "outputs": [],
   "source": [
    "# #Verifica se o arquivo não existe para não substituir um conjunto pronto\n",
    "# if not os.path.isfile('./{0}.xlsx'.format(nome)):\n",
    "    \n",
    "#     #Abre o arquivo para escrita\n",
    "#     writer = pd.ExcelWriter('{0}.xlsx'.format(nome))\n",
    "\n",
    "#     #divide o conjunto de mensagens em duas planilhas\n",
    "#     dft = pd.DataFrame({'Treinamento' : pd.Series(msgs[:t])})\n",
    "#     dft.to_excel(excel_writer = writer, sheet_name = 'Treinamento', index = False)\n",
    "\n",
    "#     dfc = pd.DataFrame({'Teste' : pd.Series(msgs[t:])})\n",
    "#     dfc.to_excel(excel_writer = writer, sheet_name = 'Teste', index = False)\n",
    "\n",
    "#     #fecha o arquivo\n",
    "#     writer.save()"
   ]
  },
  {
   "cell_type": "markdown",
   "metadata": {},
   "source": [
    "___\n",
    "## Classificando as Mensagens\n",
    "\n",
    "Agora você deve abrir o arquivo Excel com as mensagens capturadas e classificar na Coluna B se a mensagem é relevante ou não.<br /> \n",
    "Não se esqueça de colocar um nome para a coluna na célula **B1**.<br /><br />\n",
    "Fazer o mesmo na planilha de Controle.\n",
    "\n",
    "___\n",
    "## Montando o Classificador Naive-Bayes\n",
    "\n",
    "Com a base de treinamento montada, comece a desenvolver o classificador. Escreva o seu código abaixo:\n",
    "\n",
    "Opcionalmente: \n",
    "* Limpar as mensagens removendo os caracteres: enter, :, \", ', (, ), etc. Não remover emojis.<br />\n",
    "* Corrigir separação de espaços entre palavras e/ou emojis.\n",
    "* Propor outras limpezas/transformações que não afetem a qualidade da informação.\n",
    "\n"
   ]
  },
  {
   "cell_type": "code",
   "execution_count": 82,
   "metadata": {},
   "outputs": [],
   "source": [
    "import pandas as pd\n",
    "from collections import Counter\n",
    "dados = pd.read_excel('VIVE-EN.xlsx')\n",
    "\n",
    "\n",
    "def format_df(dataframe):\n",
    "    fm1=[]\n",
    "    fm2=[]\n",
    "    df_formated = pd.DataFrame({\"Treinamento\":[]})\n",
    "    for i in range(len(df)):\n",
    "        fm1.append(dataframe['Treinamento'][i].translate({ord(c): None for c in \"@:;,[]“\\/{}()+=-_*.#\"}))\n",
    "        fm2.append(dataframe['Relevância'][i])\n",
    "    df_formated[\"Treinamento\"]=fm1\n",
    "    df_formated[\"Relevância\"]=fm2\n",
    "    return df_formated\n",
    "\n",
    "df=format_df(dados)"
   ]
  },
  {
   "cell_type": "code",
   "execution_count": null,
   "metadata": {},
   "outputs": [],
   "source": []
  },
  {
   "cell_type": "code",
   "execution_count": 77,
   "metadata": {},
   "outputs": [
    {
     "name": "stdout",
     "output_type": "stream",
     "text": [
      "0    284\n",
      "1     16\n",
      "Name: Relevância, dtype: int64\n"
     ]
    }
   ],
   "source": [
    "rel_count=df[\"Relevância\"].value_counts()\n",
    "print(rel_count)\n"
   ]
  },
  {
   "cell_type": "code",
   "execution_count": 94,
   "metadata": {},
   "outputs": [],
   "source": [
    "def constant_calculator(dataframe):\n",
    "    #separando os elementos por relevancia\n",
    "    pal_rel = []\n",
    "    pal_irel = []\n",
    "    \n",
    "    for i in range(len(dados)):\n",
    "        if df[\"Relevância\"][i] == 0:\n",
    "            pal_irel.append(df['Treinamento'][i])\n",
    "        else:\n",
    "            pal_rel.append(df['Treinamento'][i])\n",
    "    \n",
    "    #separando as frases em palavras\n",
    "    splitted_rel = []\n",
    "    splitted_irel = []\n",
    "    \n",
    "    for i in range(len(pal_rel)):\n",
    "        splitted_rel += pal_rel[i].split()\n",
    "\n",
    "    for i in range(len(pal_irel)):\n",
    "        splitted_irel += pal_irel[i].split()\n",
    "    \n",
    "    #calculando a probabilidade da relevancia de uma frase\n",
    "    prob_rel = (rel_count[1]/len(df))\n",
    "    prob_irel = (rel_count[0])/len(df)\n",
    "    \n",
    "    #contando a frequencia de cada palavra\n",
    "    freq_rel  = Counter(splitted_rel)\n",
    "    freq_irel = Counter(splitted_irel)\n",
    "    \n",
    "    #contando o numero de palavras em cada caso\n",
    "    palavrasR = len(splitted_rel)\n",
    "    palavrasIR = len(splitted_irel)\n",
    "    \n",
    "    #contando o numero total de palavras unicas (sem repetiçao)\n",
    "    freq_total = Counter(splitted_rel + splitted_irel)\n",
    "    total = len(freq_total)\n",
    "    \n",
    "    return [prob_rel,prob_irel,palavrasR,palavrasIR,freq_total,total]\n",
    "\n",
    "constants=constant_calculator(df)\n",
    "\n",
    "prob_rel=constants[0]\n",
    "prob_irel=constants[1]\n",
    "palavrasR=constants[2]\n",
    "palavrasIR=constants[3]\n",
    "freq_total=constants[4]\n",
    "total = constants[5]"
   ]
  },
  {
   "cell_type": "code",
   "execution_count": null,
   "metadata": {
    "collapsed": true
   },
   "outputs": [],
   "source": []
  },
  {
   "cell_type": "code",
   "execution_count": null,
   "metadata": {
    "collapsed": true
   },
   "outputs": [],
   "source": [
    "\n"
   ]
  },
  {
   "cell_type": "code",
   "execution_count": 95,
   "metadata": {},
   "outputs": [
    {
     "name": "stdout",
     "output_type": "stream",
     "text": [
      "1142\n",
      "252\n"
     ]
    }
   ],
   "source": [
    "# palavrasR = len(splitted_rel)\n",
    "# palavrasIR = len(splitted_irel)\n",
    "# freq_total = Counter(splitted_rel + splitted_irel)\n",
    "total = len(freq_total)\n",
    "print(total)\n",
    "print(palavrasR)\n",
    "#print(1/(total+palavrasIR))"
   ]
  },
  {
   "cell_type": "code",
   "execution_count": null,
   "metadata": {},
   "outputs": [],
   "source": []
  },
  {
   "cell_type": "code",
   "execution_count": 96,
   "metadata": {},
   "outputs": [
    {
     "data": {
      "text/plain": [
       "('IRRELEVANTE', 3.1822554406227878e-07)"
      ]
     },
     "execution_count": 96,
     "metadata": {},
     "output_type": "execute_result"
    }
   ],
   "source": [
    "def relevance_checker(sentence):\n",
    "    sentence=sentence.translate({ord(c): None for c in \"@:;,[]“\\/{}()+=-_*.#\"})\n",
    "    splitted_sentence=sentence.split()\n",
    "    prob_word_rel=[prob_rel] #para conseguir analisar a probalilidade de cada palavra separadamente foi criado uma lista\n",
    "    prob_word_irel=[prob_irel] #\n",
    "    relevance=1\n",
    "    irrelevant=1\n",
    "    \n",
    "    for i in range(len(splitted_sentence)):\n",
    "        if splitted_sentence[i] in splitted_rel:\n",
    "            prob_word_rel.append((freq_rel[splitted_sentence[i]]+1)/(total+palavrasR))\n",
    "        else:\n",
    "            prob_word_rel.append(1/(total+palavrasR))\n",
    "            \n",
    "        if splitted_sentence[i] in splitted_irel:\n",
    "            prob_word_irel.append((freq_irel[splitted_sentence[i]]+1)/(total+palavrasIR))\n",
    "        else:\n",
    "            prob_word_irel.append(1/(total+palavrasIR))\n",
    "\n",
    "    \n",
    "    for i in range (len(prob_word_rel)):\n",
    "        relevance*=prob_word_rel[i]\n",
    "        irrelevant*=prob_word_irel[i]\n",
    "        \n",
    "    if relevance>irrelevant:\n",
    "        return \"RELEVANTE\",relevance\n",
    "    else:\n",
    "        return \"IRRELEVANTE\",irrelevant\n",
    "\n",
    "relevance_checker(\"htc vive good \")"
   ]
  },
  {
   "cell_type": "markdown",
   "metadata": {},
   "source": [
    "___\n",
    "## Verificando a performance\n",
    "\n",
    "Agora você deve testar o seu Classificador com a base de Testes.<br /><br /> \n",
    "\n",
    "Você deve extrair as seguintes medidas:\n",
    "* Porcentagem de positivos falsos (marcados como relevante mas não são relevantes)\n",
    "* Porcentagem de positivos verdadeiros (marcado como relevante e são relevantes)\n",
    "* Porcentagem de negativos verdadeiros (marcado como não relevante e não são relevantes)\n",
    "* Porcentagem de negativos falsos (marcado como não relevante e são relevantes)\n",
    "\n",
    "Opcionalmente:\n",
    "* Criar categorias intermediárias de relevância baseado na diferença de probabilidades. Exemplo: muito relevante, relevante, neutro, irrelevante e muito irrelevante."
   ]
  },
  {
   "cell_type": "code",
   "execution_count": 97,
   "metadata": {
    "scrolled": true
   },
   "outputs": [
    {
     "name": "stdout",
     "output_type": "stream",
     "text": [
      "23\n",
      "['cat sorter vr transforms your htc vive into a chaotic feline assembly line\\nhttps://t.co/kysebwnyq1 https://t.co/dk3xlp27bk', 'virtual reality forces\\n\\nsale prices and free shipping\\n\\ntag a friend who w ... https://t.co/pyiu8ec8zf https://t.co/7nuxcc8dvi', 'how to make your htc vive display clearer with supersampling! https://t.co/6ogo8tp9zi https://t.co/sk3mnwxgc3', 'i got featured :3\\nhttps://t.co/qyu1dna3b1 via @htxtafrica', 'if this week goes well i might\\nmy dad already has the htc vive and the oculus back home though could just wait him… https://t.co/rjdqplzttp', 'retweeted htc vive (@htcvive):\\n\\nlast chance at #paxwest today to take part in our #vrtreasurehunt - you could win... https://t.co/qynkitcd9d', '#htc vive\\n[65214414] ¥64,800\\n#じゃんぱら #じゃんぱら名古屋大須店 #中古 https://t.co/bk4afnwm3v https://t.co/5vqjrcnulm', \"@terriedenman @captainplanetow how can the world be real if i'm not hooked up to my htc vive rn\", '#paxwest is over (noo!) but someone out there has won an htc vive &amp; alienware13 (yay!) follow @htcvive to find out who in the coming weeks.', \"sooooo. my htc vive might arrive tomorrow. which means i'll do tons of vr stuff. and possibly write about it. most likely. definitely.\", 'rt @alienware: join the vr treasure hunt here at #paxwest2017 for a chance to win a new vr-ready aw13 laptop + vive!\\ndetails at: https://t.…', 'news: a mega-thread on twitter revealed the cool tricks and lies of game dev - https://t.co/hh4zb4dinx good kind ... https://t.co/0dw7uqorma', '@flamesatgames i know this was a year ago but maybe you just said \"no i didn\\'t order a htc vive\" on the email then reordered it', 'rt @lilyotron: \"as someone who has been in the software industry for almost a decade, i think it’s amazing how good it works\" https://t.co/…', '@htcvive hi! is there any way to trial htc vive at the upcoming egx 2017 expo?', \"man, i've got a $1000 htc vive and not a good enough computer to run it #firstworldproblems haha lol\", 'how to make your htc vive display clearer with supersampling! -  https://t.co/4gnjvhfkg3 https://t.co/0lgrd09vow', 'island 359 vr – game trailer 2017【htc vive, oculus rift】cloudgate studio,\\xa0inc. https://t.co/ozlb5q5m5z https://t.co/8gxl18jtib', \"26 vr startups debut at htc's vive demo day | venturebeat | ar/vr ... - venturebeat #3dtools #euvr: https://t.co/pqd3kpfcoi\", 'infinity assassin vr – game trailer 2017【htc vive】mammossix co,.\\xa0ltd. https://t.co/aqvemf6lja https://t.co/o36grx6ln4', '“16 bit fighter vr” announced for htc vive/oculus rift/playstation vr https://t.co/uttxtktq0q https://t.co/yxhjeadtes', '5 invaluable dev quotes from the new book blood, sweat, and pixels - https://t.co/is9tm8mage new book blood, swea... https://t.co/igngv0ky4t', '5 invaluable dev quotes from the new book blood, sweat, and pixels - https://t.co/lgeeytg7fg new book blood, swea... https://t.co/s6sxqcii58']\n"
     ]
    }
   ],
   "source": [
    "relevante=0\n",
    "frases_rel=[]\n",
    "df_teste=pd.read_excel(\"vive_teste.xlsx\")\n",
    "df_teste[\"Relevância\"].value_counts()\n",
    "for i in range(len(df_teste)):\n",
    "    if relevance_checker(df_teste[\"Teste\"][i])[0]==\"RELEVANTE\" and df_teste[\"Teste\"][i] not in frases_rel :\n",
    "        relevante+=1\n",
    "        frases_rel.append(df_teste[\"Teste\"][i])\n",
    "        \n",
    "print(relevante)       \n",
    "print(frases_rel)"
   ]
  },
  {
   "cell_type": "markdown",
   "metadata": {
    "collapsed": true
   },
   "source": [
    "___\n",
    "## Concluindo\n",
    "\n",
    "Escreva aqui a sua conclusão.<br /> \n",
    "Faça um comparativo qualitativo sobre as medidas obtidas.<br />\n",
    "Explique como são tratadas as mensagens com dupla negação e sarcasmo.<br />\n",
    "Proponha um plano de expansão. Por que eles devem continuar financiando o seu projeto?<br />\n",
    "\n",
    "Opcionalmente: \n",
    "* Discorrer por que não posso alimentar minha base de Treinamento automaticamente usando o próprio classificador, aplicado a novos tweets.\n",
    "* Propor diferentes cenários de uso para o classificador Naive-Bayes. Cenários sem intersecção com este projeto.\n",
    "* Sugerir e explicar melhorias reais no classificador com indicações concretas de como implementar (não é preciso codificar, mas indicar como fazer e material de pesquisa sobre o assunto).\n"
   ]
  },
  {
   "cell_type": "code",
   "execution_count": null,
   "metadata": {
    "collapsed": true
   },
   "outputs": [],
   "source": []
  },
  {
   "cell_type": "code",
   "execution_count": null,
   "metadata": {
    "collapsed": true
   },
   "outputs": [],
   "source": []
  },
  {
   "cell_type": "code",
   "execution_count": null,
   "metadata": {
    "collapsed": true
   },
   "outputs": [],
   "source": []
  }
 ],
 "metadata": {
  "kernelspec": {
   "display_name": "Python 3",
   "language": "python",
   "name": "python3"
  },
  "language_info": {
   "codemirror_mode": {
    "name": "ipython",
    "version": 3
   },
   "file_extension": ".py",
   "mimetype": "text/x-python",
   "name": "python",
   "nbconvert_exporter": "python",
   "pygments_lexer": "ipython3",
   "version": "3.6.0"
  }
 },
 "nbformat": 4,
 "nbformat_minor": 1
}
