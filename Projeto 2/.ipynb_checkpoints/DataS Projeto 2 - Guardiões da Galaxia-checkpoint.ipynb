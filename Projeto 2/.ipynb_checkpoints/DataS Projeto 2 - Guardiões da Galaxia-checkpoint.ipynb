{
 "cells": [
  {
   "cell_type": "markdown",
   "metadata": {},
   "source": [
    "# Projeto 2 - Classificador Automático de Sentimento\n",
    "\n",
    "Você foi contratado por uma empresa parar analisar como os clientes estão reagindo a um determinado produto no Twitter. A empresa deseja que você crie um programa que irá analisar as mensagens disponíveis e classificará como \"relevante\" ou \"irrelevante\". Com isso ela deseja que mensagens negativas, que denigrem o nome do produto, ou que mereçam destaque, disparem um foco de atenção da área de marketing.<br /><br />\n",
    "Como aluno de Ciência dos Dados, você lembrou do Teorema de Bayes, mais especificamente do Classificador Naive-Bayes, que é largamente utilizado em filtros anti-spam de e-mails. O classificador permite calcular qual a probabilidade de uma mensagem ser relevante dadas as palavras em seu conteúdo.<br /><br />\n",
    "Para realizar o MVP (*minimum viable product*) do projeto, você precisa implementar uma versão do classificador que \"aprende\" o que é relevante com uma base de treinamento e compara a performance dos resultados com uma base de testes.<br /><br />\n",
    "Após validado, o seu protótipo poderá também capturar e classificar automaticamente as mensagens da plataforma.\n",
    "\n",
    "## Informações do Projeto\n",
    "\n",
    "Prazo: 13/Set até às 23:59.<br />\n",
    "Grupo: 1 ou 2 pessoas.<br /><br />\n",
    "Entregáveis via GitHub: \n",
    "* Arquivo notebook com o código do classificador, seguindo as orientações abaixo.\n",
    "* Arquivo Excel com as bases de treinamento e teste totalmente classificado.\n",
    "\n",
    "**NÃO disponibilizar o arquivo com os *access keys/tokens* do Twitter.**\n",
    "\n",
    "\n",
    "### Check 3: \n",
    "\n",
    "Até o dia 06 de Setembro às 23:59, o notebook e o xlsx devem estar no Github com as seguintes evidências: \n",
    "    * Conta no twitter criada.\n",
    "    * Produto escolhido.\n",
    "    * Arquivo Excel contendo a base de treinamento e teste já classificado.\n",
    "\n",
    "Sugestão de leitura:<br />\n",
    "http://docs.tweepy.org/en/v3.5.0/index.html<br />\n",
    "https://monkeylearn.com/blog/practical-explanation-naive-bayes-classifier/"
   ]
  },
  {
   "cell_type": "markdown",
   "metadata": {},
   "source": [
    "___\n",
    "\n",
    "## Preparando o ambiente\n",
    "\n",
    "Instalando a biblioteca *tweepy* para realizar a conexão com o Twitter:"
   ]
  },
  {
   "cell_type": "code",
   "execution_count": 1,
   "metadata": {
    "collapsed": true
   },
   "outputs": [],
   "source": [
    "%%capture\n",
    "\n",
    "#Instalando o tweepy\n",
    "!pip install tweepy"
   ]
  },
  {
   "cell_type": "markdown",
   "metadata": {},
   "source": [
    "Importando as Bibliotecas que serão utilizadas. Esteja livre para adicionar outras."
   ]
  },
  {
   "cell_type": "code",
   "execution_count": 2,
   "metadata": {
    "collapsed": true
   },
   "outputs": [],
   "source": [
    "import tweepy\n",
    "import math\n",
    "import os.path\n",
    "import pandas as pd\n",
    "import json\n",
    "from random import shuffle"
   ]
  },
  {
   "cell_type": "markdown",
   "metadata": {},
   "source": [
    "___\n",
    "## Autenticando no  Twitter\n",
    "\n",
    "Para realizar a captura dos dados é necessário ter uma conta cadastrada no twitter:\n",
    "\n",
    "* Conta: ***@arthur_juan***\n",
    "\n",
    "\n",
    "1. Caso ainda não tenha uma: https://twitter.com/signup\n",
    "1. Depois é necessário registrar um app para usar a biblioteca: https://apps.twitter.com/\n",
    "1. Dentro do registro do App, na aba Keys and Access Tokens, anotar os seguintes campos:\n",
    "    1. Consumer Key (API Key)\n",
    "    1. Consumer Secret (API Secret)\n",
    "1. Mais abaixo, gere um Token e anote também:\n",
    "    1. Access Token\n",
    "    1. Access Token Secret\n",
    "    \n",
    "1. Preencha os valores no arquivo \"auth.pass\"\n",
    "\n",
    "**ATENÇÃO**: Nunca divulgue os dados desse arquivo online (GitHub, etc). Ele contém as chaves necessárias para realizar as operações no twitter de forma automática e portanto é equivalente a ser \"hackeado\". De posse desses dados, pessoas mal intencionadas podem fazer todas as operações manuais (tweetar, seguir, bloquear/desbloquear, listar os seguidores, etc). Para efeito do projeto, esse arquivo não precisa ser entregue!!!"
   ]
  },
  {
   "cell_type": "code",
   "execution_count": 3,
   "metadata": {
    "collapsed": true
   },
   "outputs": [],
   "source": [
    "#    API KEY: ZpsQt4djTkQaRfHdIvwM4OVEQ\n",
    "#    API Scret: qnAxY4HpajivQq76Gmz5uzks4Dp5AwMgZh5wopLI0vOYzEZs83\n",
    "#\n",
    "#    Access Token: 904543009957715968-zw2LsSLpUxRXol9z6FxatNjUAT01Wbh\n",
    "#    Access Token Secret: dPULw1D3Q0fvF6CntlbTFvDdn3jO7MSK8e3ZiLfbNKdEJ"
   ]
  },
  {
   "cell_type": "code",
   "execution_count": 4,
   "metadata": {
    "collapsed": true
   },
   "outputs": [],
   "source": [
    "# #Dados de autenticação do twitter:\n",
    "\n",
    "# #Coloque aqui o identificador da conta no twitter: @arthur_juan\n",
    "\n",
    "# #leitura do arquivo no formato JSON\n",
    "# with open('auth.pass') as fp:    \n",
    "#     data = json.load(fp)\n",
    "\n",
    "# #Configurando a biblioteca. Não modificar\n",
    "# auth = tweepy.OAuthHandler(data['consumer_key'], data['consumer_secret'])\n",
    "# auth.set_access_token(data['access_token'], data['access_token_secret'])"
   ]
  },
  {
   "cell_type": "markdown",
   "metadata": {},
   "source": [
    "___\n",
    "## Coletando Dados\n",
    "\n",
    "Agora vamos coletar os dados. Tenha em mente que dependendo do produto escolhido, não haverá uma quantidade significativa de mensagens, ou ainda poder haver muitos retweets.<br /><br /> \n",
    "Configurando:"
   ]
  },
  {
   "cell_type": "code",
   "execution_count": 5,
   "metadata": {
    "collapsed": true
   },
   "outputs": [],
   "source": [
    "# #Produto escolhido:\n",
    "# produto = 'HTC Vive'\n",
    "# nome = \"VIVE-EN\"\n",
    "\n",
    "\n",
    "# #Quantidade mínima de mensagens capturadas:\n",
    "# n = 500\n",
    "# #Quantidade mínima de mensagens para a base de treinamento:\n",
    "# t = 300\n",
    "\n",
    "# #Filtro de língua, escolha uma na tabela ISO 639-1.\n",
    "# lang = 'en'"
   ]
  },
  {
   "cell_type": "markdown",
   "metadata": {},
   "source": [
    "Capturando os dados do twitter:"
   ]
  },
  {
   "cell_type": "code",
   "execution_count": 6,
   "metadata": {
    "collapsed": true
   },
   "outputs": [],
   "source": [
    "# #Cria um objeto para a captura\n",
    "# api = tweepy.API(auth)\n",
    "\n",
    "# #Inicia a captura, para mais detalhes: ver a documentação do tweepy\n",
    "# i = 1\n",
    "# msgs = []\n",
    "# for msg in tweepy.Cursor(api.search, q=produto, lang=lang).items():    \n",
    "#     msgs.append(msg.text.lower())\n",
    "#     i += 1\n",
    "#     if i > n:\n",
    "#         break\n",
    "\n",
    "# #Embaralhando as mensagens para reduzir um possível viés\n",
    "# shuffle(msgs)"
   ]
  },
  {
   "cell_type": "markdown",
   "metadata": {},
   "source": [
    "Salvando os dados em uma planilha Excel:"
   ]
  },
  {
   "cell_type": "code",
   "execution_count": 7,
   "metadata": {
    "collapsed": true
   },
   "outputs": [],
   "source": [
    "# #Verifica se o arquivo não existe para não substituir um conjunto pronto\n",
    "# if not os.path.isfile('./{0}.xlsx'.format(nome)):\n",
    "    \n",
    "#     #Abre o arquivo para escrita\n",
    "#     writer = pd.ExcelWriter('{0}.xlsx'.format(nome))\n",
    "\n",
    "#     #divide o conjunto de mensagens em duas planilhas\n",
    "#     dft = pd.DataFrame({'Treinamento' : pd.Series(msgs[:t])})\n",
    "#     dft.to_excel(excel_writer = writer, sheet_name = 'Treinamento', index = False)\n",
    "\n",
    "#     dfc = pd.DataFrame({'Teste' : pd.Series(msgs[t:])})\n",
    "#     dfc.to_excel(excel_writer = writer, sheet_name = 'Teste', index = False)\n",
    "\n",
    "#     #fecha o arquivo\n",
    "#     writer.save()"
   ]
  },
  {
   "cell_type": "markdown",
   "metadata": {},
   "source": [
    "___\n",
    "## Classificando as Mensagens\n",
    "\n",
    "Agora você deve abrir o arquivo Excel com as mensagens capturadas e classificar na Coluna B se a mensagem é relevante ou não.<br /> \n",
    "Não se esqueça de colocar um nome para a coluna na célula **B1**.<br /><br />\n",
    "Fazer o mesmo na planilha de Controle.\n",
    "\n",
    "___\n",
    "## Montando o Classificador Naive-Bayes\n",
    "\n",
    "Com a base de treinamento montada, comece a desenvolver o classificador. Escreva o seu código abaixo:\n",
    "\n",
    "Opcionalmente: \n",
    "* Limpar as mensagens removendo os caracteres: enter, :, \", ', (, ), etc. Não remover emojis.<br />\n",
    "* Corrigir separação de espaços entre palavras e/ou emojis.\n",
    "* Propor outras limpezas/transformações que não afetem a qualidade da informação.\n",
    "\n"
   ]
  },
  {
   "cell_type": "code",
   "execution_count": 10,
   "metadata": {},
   "outputs": [],
   "source": [
    "import pandas as pd\n",
    "from collections import Counter\n",
    "dados = pd.read_excel('VIVE-EN.xlsx')\n",
    "\n",
    "\n",
    "def format_df(dataframe):\n",
    "    fm1=[]\n",
    "    fm2=[]\n",
    "    df_formated = pd.DataFrame({\"Treinamento\":[]})\n",
    "    for i in range(len(dataframe)):\n",
    "        fm1.append(dataframe['Treinamento'][i].translate({ord(c): None for c in \"@:;,[]“\\/{}()+=-_*.#\"}))\n",
    "        fm2.append(dataframe['Relevância'][i])\n",
    "    df_formated[\"Treinamento\"]=fm1\n",
    "    df_formated[\"Relevância\"]=fm2\n",
    "    return df_formated\n",
    "\n",
    "df=format_df(dados)"
   ]
  },
  {
   "cell_type": "code",
   "execution_count": null,
   "metadata": {
    "collapsed": true
   },
   "outputs": [],
   "source": []
  },
  {
   "cell_type": "code",
   "execution_count": 11,
   "metadata": {},
   "outputs": [
    {
     "name": "stdout",
     "output_type": "stream",
     "text": [
      "0    284\n",
      "1     16\n",
      "Name: Relevância, dtype: int64\n"
     ]
    }
   ],
   "source": [
    "rel_count=df[\"Relevância\"].value_counts()\n",
    "print(rel_count)\n"
   ]
  },
  {
   "cell_type": "code",
   "execution_count": 18,
   "metadata": {
    "collapsed": true
   },
   "outputs": [],
   "source": [
    "splitted_rel = []\n",
    "splitted_irel = []\n",
    "    \n",
    "def constant_calculator(dataframe):\n",
    "    #separando os elementos por relevancia\n",
    "    pal_rel = []\n",
    "    pal_irel = []\n",
    "    \n",
    "    for i in range(len(dados)):\n",
    "        if df[\"Relevância\"][i] == 0:\n",
    "            pal_irel.append(df['Treinamento'][i])\n",
    "        else:\n",
    "            pal_rel.append(df['Treinamento'][i])\n",
    "    \n",
    "    #separando as frases em palavras\n",
    "    splitted_rel = []\n",
    "    splitted_irel = []\n",
    "    \n",
    "    for i in range(len(pal_rel)):\n",
    "        splitted_rel += pal_rel[i].split()\n",
    "\n",
    "    for i in range(len(pal_irel)):\n",
    "        splitted_irel += pal_irel[i].split()\n",
    "    \n",
    "    #calculando a probabilidade da relevancia de uma frase\n",
    "    prob_rel = (rel_count[1]/len(df))\n",
    "    prob_irel = (rel_count[0])/len(df)\n",
    "    \n",
    "    #contando a frequencia de cada palavra\n",
    "    freq_rel  = Counter(splitted_rel)\n",
    "    freq_irel = Counter(splitted_irel)\n",
    "    \n",
    "    #contando o numero de palavras em cada caso\n",
    "    palavrasR = len(splitted_rel)\n",
    "    palavrasIR = len(splitted_irel)\n",
    "    \n",
    "    #contando o numero total de palavras unicas (sem repetiçao)\n",
    "    freq_total = Counter(splitted_rel + splitted_irel)\n",
    "    total = len(freq_total)\n",
    "    \n",
    "    return [prob_rel,prob_irel,palavrasR,palavrasIR,freq_total,total]\n",
    "\n",
    "constants=constant_calculator(df)\n",
    "\n",
    "prob_rel=constants[0]\n",
    "prob_irel=constants[1]\n",
    "palavrasR=constants[2]\n",
    "palavrasIR=constants[3]\n",
    "freq_total=constants[4]\n",
    "total = constants[5]"
   ]
  },
  {
   "cell_type": "code",
   "execution_count": null,
   "metadata": {
    "collapsed": true
   },
   "outputs": [],
   "source": []
  },
  {
   "cell_type": "code",
   "execution_count": null,
   "metadata": {
    "collapsed": true
   },
   "outputs": [],
   "source": [
    "\n"
   ]
  },
  {
   "cell_type": "code",
   "execution_count": 19,
   "metadata": {},
   "outputs": [
    {
     "name": "stdout",
     "output_type": "stream",
     "text": [
      "1142\n",
      "252\n"
     ]
    }
   ],
   "source": [
    "# palavrasR = len(splitted_rel)\n",
    "# palavrasIR = len(splitted_irel)\n",
    "# freq_total = Counter(splitted_rel + splitted_irel)\n",
    "total = len(freq_total)\n",
    "print(total)\n",
    "print(palavrasR)\n",
    "#print(1/(total+palavrasIR))"
   ]
  },
  {
   "cell_type": "code",
   "execution_count": null,
   "metadata": {
    "collapsed": true
   },
   "outputs": [],
   "source": []
  },
  {
   "cell_type": "code",
   "execution_count": 20,
   "metadata": {},
   "outputs": [
    {
     "data": {
      "text/plain": [
       "('RELEVANTE', 1.9688399207030433e-11)"
      ]
     },
     "execution_count": 20,
     "metadata": {},
     "output_type": "execute_result"
    }
   ],
   "source": [
    "def relevance_checker(sentence):\n",
    "    sentence=sentence.translate({ord(c): None for c in \"@:;,[]“\\/{}()+=-_*.#\"})\n",
    "    splitted_sentence=sentence.split()\n",
    "    prob_word_rel=[prob_rel] #para conseguir analisar a probalilidade de cada palavra separadamente foi criado uma lista\n",
    "    prob_word_irel=[prob_irel] #\n",
    "    relevance=1\n",
    "    irrelevant=1\n",
    "    \n",
    "    for i in range(len(splitted_sentence)):\n",
    "        if splitted_sentence[i] in splitted_rel:\n",
    "            prob_word_rel.append((freq_rel[splitted_sentence[i]]+1)/(total+palavrasR))\n",
    "        else:\n",
    "            prob_word_rel.append(1/(total+palavrasR))\n",
    "            \n",
    "        if splitted_sentence[i] in splitted_irel:\n",
    "            prob_word_irel.append((freq_irel[splitted_sentence[i]]+1)/(total+palavrasIR))\n",
    "        else:\n",
    "            prob_word_irel.append(1/(total+palavrasIR))\n",
    "\n",
    "    \n",
    "    for i in range (len(prob_word_rel)):\n",
    "        relevance*=prob_word_rel[i]\n",
    "        irrelevant*=prob_word_irel[i]\n",
    "        \n",
    "    if relevance>irrelevant:\n",
    "        return \"RELEVANTE\",relevance\n",
    "    else:\n",
    "        return \"IRRELEVANTE\",irrelevant\n",
    "\n",
    "relevance_checker(\"htc vive good \")"
   ]
  },
  {
   "cell_type": "markdown",
   "metadata": {},
   "source": [
    "___\n",
    "## Verificando a performance\n",
    "\n",
    "Agora você deve testar o seu Classificador com a base de Testes.<br /><br /> \n",
    "\n",
    "Você deve extrair as seguintes medidas:\n",
    "* Porcentagem de positivos falsos (marcados como relevante mas não são relevantes)\n",
    "* Porcentagem de positivos verdadeiros (marcado como relevante e são relevantes)\n",
    "* Porcentagem de negativos verdadeiros (marcado como não relevante e não são relevantes)\n",
    "* Porcentagem de negativos falsos (marcado como não relevante e são relevantes)\n",
    "\n",
    "Opcionalmente:\n",
    "* Criar categorias intermediárias de relevância baseado na diferença de probabilidades. Exemplo: muito relevante, relevante, neutro, irrelevante e muito irrelevante."
   ]
  },
  {
   "cell_type": "code",
   "execution_count": 21,
   "metadata": {
    "scrolled": true
   },
   "outputs": [
    {
     "name": "stdout",
     "output_type": "stream",
     "text": [
      "161\n",
      "['spartaga vr - announcement trailer 2017【htc vive, oculus rift】house of how https://t.co/yvirr3aepm', 'these are the htc vive games launching in september https://t.co/lxycstsne6', 'rt @rickking16: watch \"tomb raider in virtual reality! | tomb raider #vr: dagger of xian (htc vive gameplay)\" on youtube https://t.co/krwtu…', \"rt @rtovr: [don't miss] htc vive gets major price cut, now $600 https://t.co/gvxsabquph @htcvive @agraylin @obriend17 https://t.co/hvxsy3li…\", '#let\\'splay #thebellows on \"htcvive https://t.co/r9tc6atkgg via @youtube #scary\\n#horror #creepy #vive #htc #vr #virtualreality #steam #spooky', 'face-off against a giant ice dragon in @htcvive title tales of glacier - https://t.co/2txzlpb6jn https://t.co/kcn3jvilon', 'mindshow brings vr puppet theater to steam’s early access for htc vive |  https://t.co/uavioow4hg https://t.co/end9acuzrv', 'rt @shahidkamal: chimera zero. for psvr, oculus rift and htc vive. tech demo currently runs on psvr and rift. this is not your daddy’s chim…', 'htc shares rebounds on back of vive vr\\xa0enthusiasm https://t.co/gdwuxwagac', 'the very creepy looking duck season is out for htc vive &amp; oculus rift on 14th september - thesixthaxis https://t.co/3mzhajie66', 'report: htc could sell off its vive virtual reality division https://t.co/esz5oqqeqw https://t.co/ijh4xdnds3', 'rt @androlizer: #microsoft selling tpcast for #htc vive in na, pre-orders now available #northamerica #wirelesstransmitter https://t.co/dwt…', 'rt @vrfocus: microsoft selling tpcast for @htcvive in na, pre-orders now available: https://t.co/1jbwcso8wc https://t.co/6dryazq3ym', 'rt @exp_engine: htc drops price of vive by $200 as it looks to compete with facebook’s aggressive vr pricing #technews\\nhttps://t.co/qelgqm3…', 'rt @naturlborngamer: “oculus rift vs. htc vive: prices are lower, but our favorite remains the same https://t.co/rjab7m2izc #vr https://t.c…', 'i liked a @youtube video https://t.co/mldelghvxh scarier than it looks | the cubicle (htc vive virtual reality)', 'cat sorter vr transforms your htc vive into a chaotic feline assembly line\\nhttps://t.co/kysebwnyq1 https://t.co/dk3xlp27bk', 'htc vive virtual reality headset https://t.co/s70znlcjeo #htc #headset https://t.co/rynkij2j26', '#games #gaming #mmo duck season coming to htc vive and oculus rift this month https://t.co/guj23ktdqs https://t.co/htgzzhgfje', 'virtual reality forces\\n\\nsale prices and free shipping\\n\\ntag a friend who w ... https://t.co/pyiu8ec8zf https://t.co/7nuxcc8dvi', 'i liked a @youtube video https://t.co/ye01sdq2ek secret gladiator move unlocked! - gorn funny moments (htc vive vr game)', 'i liked a @youtube video https://t.co/kslp4usnpf how i record and live stream vr with the htc vive!', \"[don't miss] htc vive gets major price cut, now $600 https://t.co/gvxsabquph @htcvive @agraylin @obriend17 https://t.co/hvxsy3li5a\", \"what the f#@ is that? | let's play the bellows vr experience on htc vive: https://t.co/hyatymqnan via @youtube\", 'microsoft selling tpcast for @htcvive in na, pre-orders now available: https://t.co/1jbwcso8wc https://t.co/ygm3wcnuo0', 'i liked a @youtube video https://t.co/pfb1r43xil the crooked man?? | the conjuring 2: visions 360 htc vive vr experience', \"mindshow brings vr puppet theater to steam's early access for htc vive via @startupinfo4you https://t.co/gh0sznwv1r\", 'how to make your htc vive display clearer with supersampling! https://t.co/6ogo8tp9zi https://t.co/sk3mnwxgc3', 'cmoar vr: un cine virtual para tu google cardboard / htc vive / oculus https://t.co/oxlaz12drb', 'rt @akanoodles: fight the ice dragon in tales of glacier on htc vive https://t.co/0hqckxwaxt #vr #mr #ar #microsoft #oculus #htc https://t.…', 'mindshow brings vr puppet theater to steam’s ... - https://t.co/efoibncemm - ... https://t.co/cc7zpn1ryb', 'rt @htcesports: the epic 1v1 finale of htc trials is here! find out who takes home a vive and the title of htc trials champion.\\n\\nhttps://t.…', 'i got featured :3\\nhttps://t.co/qyu1dna3b1 via @htxtafrica', 'these are the htc vive games launching in september https://t.co/3j4x7u816x via windows central https://t.co/2iebchntli', 'what if apple bought the vive off htc https://t.co/iuluo492uz', 'if this week goes well i might\\nmy dad already has the htc vive and the oculus back home though could just wait him… https://t.co/rjdqplzttp', 'retweeted htc vive (@htcvive):\\n\\nlast chance at #paxwest today to take part in our #vrtreasurehunt - you could win... https://t.co/qynkitcd9d', 'mindshow brings #vr puppet theater to steam’s early access for htc #vive\\nhttps://t.co/mpquekg1iz https://t.co/ye1wluth5p', \"@fatkiddeals i'm sick of seeing ads for the oculus, htc vive is the way to go.\\n\\nuse revive and access all the oculus store games, perf. 👌\", 'these are the htc vive games launching in september https://t.co/icqmenqir5', 'i liked a @youtube video https://t.co/0ds7ufy41e too much weird | accounting (htc vive virtual reality)', \"pre-orders now available to buy a tpcast if you're in the us thanks to microsoft! https://t.co/nec9dmqtbq #vr… https://t.co/h6l2tk45vl\", 'watch \"tomb raider in virtual reality! | tomb raider #vr: dagger of xian (htc vive gameplay)\" on youtube… https://t.co/ckxcsh0vcs', 'i liked a @youtube video https://t.co/scsizkiv8z crazed idiot beats googly-eyed champion into sensual pulp?! | gorn #1 (htc vive vr)', '#htc vive\\n[65214414] ¥64,800\\n#じゃんぱら #じゃんぱら名古屋大須店 #中古 https://t.co/bk4afnwm3v https://t.co/5vqjrcnulm', \"rt @joshog: it's time to get #virtualog homies! get your hands on one of two htc vive's this month!\\n\\nenter: https://t.co/qqhtsisnom https:/…\", 'dcs world 2 - a10c live stream with deadstick - htc vive: https://t.co/lb6heasfrd via @youtube', 'cyberpowerpc gamer xtreme gxivr2400a desktop &amp; htc vive virtual reality system bundle - https://t.co/y2wyblf53y', 'sorrow pain &amp; anguish | gorn #5 (htc vive virtual reality) https://t.co/4kgyu5pylh https://t.co/ldnxixflcn', 'rt @newegg: enter the newegg #paxeast @htcvive &amp; @intelgaming giveaway to win a vive vr headset &amp; i7-7700k kaby lake cpu ► https://t.co/9oq…', 'the leaders in vr headsets htc has now reduced the price by $200 on the award winning vive headset, its now $754.56… https://t.co/rd3lvpuqc4', '@netnobody yo could you help me buy an htc vive bro', \"@terriedenman @captainplanetow how can the world be real if i'm not hooked up to my htc vive rn\", 'the very creepy looking duck season is out for htc vive &amp; oculus rift on 14th september https://t.co/hx1mjtsocd', 'rt @rickking16: headmaster gets a surprise launch on oculus rift and htc vive https://t.co/robikjmsfm #vr https://t.co/1izmpryg0k', '#paxwest is over (noo!) but someone out there has won an htc vive &amp; alienware13 (yay!) follow @htcvive to find out who in the coming weeks.', 'i liked a @youtube video https://t.co/wrzybu7y4l [delta six] call of duty vr zombies - oculus rift / htc vive', 'i liked a @youtube video https://t.co/xznktaxqpk scarier than it looks | the cubicle (htc vive virtual reality)', 'tiny town vr gameplay - vr htc vive https://t.co/bgwapuljju', 'rt @rikardsteiber: news: htc vive is announcing the first swedish vr lab initiative with leading accelerators. :) @htcvive  #sthlmtech @htc…', 'tpcast wireless vive accessory available for pre-order in europe  https://t.co/senecmyvr9 via @uploadvr \\n\\n#vr… https://t.co/yi4cnz283s', \"sooooo. my htc vive might arrive tomorrow. which means i'll do tons of vr stuff. and possibly write about it. most likely. definitely.\", 'dodge this – superhot vr (htc vive) https://t.co/09wex5wfdi https://t.co/hmchrvirig', \"rt @zotaccup: zotac, @htcvive ,&amp; @bigboxvr are partnering up' for a vr esports event  at computex\\n\\nwin a full vr setup!! 🔥\\n\\nenter: https://…\", 'htc vive virtual reality headset https://t.co/yx0u9zzedq #htc #headset https://t.co/xm8pnxodp3', \"what the f#@ is that? | let's play the bellows full vr experience on htc vive https://t.co/w15c07s3ew\", 'i liked a @youtube video https://t.co/rsvgnprz3z vr super spy! - i expect you to die gameplay - virtual reality htc vive', 'liked on youtube: tomb raider in virtual reality! | tomb raider vr: dagger of xian (htc vive gameplay) https://t.co/38gl554j7w', 'cmoar vr: un cine virtual para tu google cardboard / htc vive / oculus https://t.co/8b0z1twzaj https://t.co/vnpiwx6qv6', 'rt @3dprintmaven: store and charge your htc vive with this 3d printed wall mount - https://t.co/bz9xoaexb6 #3dprinting https://t.co/qeqwrrb…', '“chimera zero” announced for psvr/oculus rift/htc vive https://t.co/tie9dtxrnq https://t.co/yywq4bpsd1', 'rt @video360_club: new vr-game : disassembled vr\\n #vr #vrигра #игра #обзор #видеообзор #oculus #rift #htc #vive #samsung #gear #vr https://…', 'rt @alienware: join the vr treasure hunt here at #paxwest2017 for a chance to win a new vr-ready aw13 laptop + vive!\\ndetails at: https://t.…', 'stress level zero’s duck season flies onto htc vive this month https://t.co/tx6csvr95g', 'i liked a @youtube video https://t.co/6enxtg28wx secret agent jack | i expect you to die (htc vive virtual reality)', \"@ifooya htc vive is def worth the couple $100's more\", \"rt @htcesports: enjoying the #ti7 action? to celebrate we're giving away an @htcvive plus @cloud9 and @teamliquid t-shirts!\\n\\nlink: https://…\", 'news: a mega-thread on twitter revealed the cool tricks and lies of game dev - https://t.co/hh4zb4dinx good kind ... https://t.co/0dw7uqorma', 'rick king: headmaster gets a surprise launch on oculus rift and htc vive https://t.co/s9yxa1tifg\\xa0 #vr https://t.co/kg9d3disro', \"who needs an htc vive when you've got this? https://t.co/oijm78klyi\", '@flamesatgames i know this was a year ago but maybe you just said \"no i didn\\'t order a htc vive\" on the email then reordered it', 'giant gladiators!! - gorn gameplay - htc vive vr: https://t.co/7ewvpjmncj via @youtube', 'blasters of the universe: vr bullet hell gameplay from the full release with htc vive via /r/vive… https://t.co/mzgb4tnjvt', 'i liked a @youtube video https://t.co/11pbtaepey tomb raider in virtual reality! | tomb raider vr: dagger of xian (htc vive gameplay)', \"who's into free htc vive? #meetingsinglegirls\", 'rt @lilyotron: \"as someone who has been in the software industry for almost a decade, i think it’s amazing how good it works\" https://t.co/…', 'taphouse vr coming this october to htc vive! https://t.co/ruzaxbbmh9', 'rt @ayushimehta22: htc vive reduces price by rs 16,000, making the best virtual reality system more accessible… https://t.co/ijmxebgixj htt…', 'microsoft selling tpcast for @htcvive in na, pre-orders now available: https://t.co/1jbwcso8wc https://t.co/6dryazq3ym', 'https://t.co/luiodtnnxm - lego batman movie in vr! | batmersive vr 360° experience  - htc vive virtual reality\\nthe… https://t.co/jxesvwvdzj', '@htcvive hi! is there any way to trial htc vive at the upcoming egx 2017 expo?', 'just played spacepirates in the htc vive. https://t.co/wpmmml6mye', 'store and charge your htc vive with this 3d printed wall mount - https://t.co/bz9xoaexb6 #3dprinting… https://t.co/hhgol2mcja', \"htc cuts the vive vr headset's price to $599\\nhttps://t.co/m773vc1qlr https://t.co/onpatfaexg\", 'fight the ice dragon in tales of glacier on htc vive https://t.co/0hqckxwaxt #vr #mr #ar #microsoft #oculus #htc https://t.co/u1gysljbtu', 'i liked a @youtube video https://t.co/xhd2pfm8vw prostate examinator - superhot vr - htc vive', 'rt @ilovecarejosha1: #let\\'splay #thebellows on \"htcvive https://t.co/qh731e0xnw via @youtube #scary\\n#horror #creepy #vive #htc #vr #virtua…', 'these are the htc vive games launching in september https://t.co/xt8hszamsj #apple', \"i liked a @youtube video https://t.co/ogu7fgtxaz it's time for some real fun in prison!!! - prison boss vr (vr htc vive gameplay)\", \"rt @bryanbma: the star wars exhibit at ion orchard has two htc vive &amp; zotac-based vr booths. couldn't do much in the game aside from move b…\", 'rt @cappasity: cappasity vr shopping is coming to htc vive in 2016 #htcvive #vr #ecommerce @htcvive https://t.co/detxxpxnex', 'htc vive amazon https://t.co/2hcjknjbqn', 'fight the ice dragon in tales of glacier on htc vive https://t.co/za14ag23rn https://t.co/6mtl6ifskg', 'i liked a @youtube video https://t.co/xh88sdixzo htc vive deluxe audio strap unboxing, setup, overview &amp; stress testing in vr games', 'rt @xgamecrawlx: https://t.co/luiodtnnxm - lego batman movie in vr! | batmersive vr 360° experience  - htc vive virtual reality\\nthe batusi…', 'rt @rickking16: watch \"rowdy joins the walking dead in vr! | out of ammo: death drive - htc vive gameplay\" on youtube https://t.co/b4jsuj8z…', 'i liked a @youtube video https://t.co/k2bzchiujy which is the best vr head set for racing simulators ? - rift vs htc vive', 'htc is giving away a vive to celebrate the international dota 2 championships  https://t.co/gwoipgsdxs virtual reality vrgaming', 'duck season coming to htc vive and oculus rift this month - mmorpg news https://t.co/nsryabvngk', \"man, i've got a $1000 htc vive and not a good enough computer to run it #firstworldproblems haha lol\", \"these are the htc vive games launching in september - here's what's new for the htc vive for september 2017! a ... https://t.co/acncwpqlk8\", 'i added a video to a @youtube playlist https://t.co/bj8c9euqgr wubba lubba dub dub | rick and morty vr #1 (htc vive virtual reality)', 'these are the htc vive games launching in september https://t.co/wlxpdhr0n6 https://t.co/epgp62tln0', 'how to make your htc vive display clearer with supersampling! -  https://t.co/4gnjvhfkg3 https://t.co/0lgrd09vow', 'the very creepy looking duck season is out for htc vive &amp; oculus rift on 14th september - thesixthaxis: https://t.co/mfum2vrfdb', 'island 359 vr – game trailer 2017【htc vive, oculus rift】cloudgate studio,\\xa0inc. https://t.co/ozlb5q5m5z https://t.co/8gxl18jtib', '@cionet1019 are you gonna do htc vive again? https://t.co/nklpucoczw', 'can you directly view iso/3d iso on htc vive? \\nthe following post will show you how to play #iso/#3diso in #htcvive: https://t.co/iqpcbbvkfj', 'new spooky htc vive video is now live! go have a look! :)\\n\\nhttps://t.co/cehpgkaexj', 'live htc vive unboxing &amp; playtesting later over at :d', '@johndedomenici @hcjustinn htc vive, currently relative best vr headset and gear out there', \"what the f#@ is that? | let's play the bellows full vr experience on htc vive https://t.co/jtk20he8za\", 'workmans comp | mindshow vr | htc vive: https://t.co/b1co8xwpq6 via @youtube', 'anyone using htc vive controllers without the headset as an input device option? #seriousgames #gamedev #vr', 'projectm: daydream vr – video game trailer 2017【htc vive, oculus rift】evr\\xa0studio https://t.co/xn623t4hxp https://t.co/2kygnhpdwm', 'i liked a @youtube video https://t.co/kwiiolrvaf rowdy joins the walking dead in vr! | out of ammo: death drive - htc vive gameplay', '#microsoft selling tpcast for #htc vive in na, pre-orders now available #northamerica #wirelesstransmitter… https://t.co/mltdodjk3a', 'htc vive vr games!: https://t.co/o0zwycwpo2 via @youtube', 'cyberpowerpc gamer xtreme vr gxivr8040a desktop &amp; htc vive virtual reality system bundle - https://t.co/ywhp7xxtqx', 'rt @vrfocus: microsoft selling tpcast for @htcvive in na, pre-orders now available: https://t.co/1jbwcso8wc https://t.co/ygm3wcnuo0', 'hunterdeals: htc vive vr $899.10 delivered @ microsoft store on ebay https://t.co/p84oi0xghb', 'mindshow brings vr puppet theater to steam’s early access for htc vive #vr #virtualreality\\n\\nhttps://t.co/qbipcwidzi via @venturebeat', 'new vr-game : tomb raider vr\\n #vr #vrигра #игра #обзор #видеообзор #oculus #rift #htc #vive #samsung #gear #vr https://t.co/5kf9zn4ofm', 'i liked a @youtube video https://t.co/tzhvht3mxu prostate examinator - superhot vr - htc vive', 'these are the htc vive games launching in september https://t.co/dc80ouvdrs', 'microsoft selling tpcast for htc vive in na, pre-orders now available https://t.co/jjmv5t1s97 https://t.co/3linbjqpnh', 'rt @ericbond007: htc vive roomscale vr: i play raw data in my vr room.https://t.co/w9mmyrxmic', \"26 vr startups debut at htc's vive demo day | venturebeat | ar/vr ... - venturebeat #3dtools #euvr: https://t.co/pqd3kpfcoi\", 'htc vive reduces price by rs 16,000, making the best virtual reality system more accessible to the mass market https://t.co/c3ysfkhtvi', 'the leaders in vr headsets htc has now reduced the price by $200 on the award winning vive headset, its now $754.56… https://t.co/70fyhuntfe', '#microsoft selling tpcast for #htc vive in na, pre-orders now available #northamerica #wirelesstransmitter… https://t.co/rfjpxjbtpo', 'these are the htc vive games launching in september https://t.co/2svgosh8fg #news #apple https://t.co/jv4ygyccnv', 'rt @techdeals_16: htc vive - now discounted to $599 - https://t.co/ssqcxy7rzp', 'i added a video to a @youtube playlist https://t.co/rbtkijiid9 elite dangerous (vr galaxy map / controls) - htc vive', 'infinity assassin vr – game trailer 2017【htc vive】mammossix co,.\\xa0ltd. https://t.co/aqvemf6lja https://t.co/o36grx6ln4', '“16 bit fighter vr” announced for htc vive/oculus rift/playstation vr https://t.co/uttxtktq0q https://t.co/yxhjeadtes', 'rt @gamehampton: try the oculus rift and htc vive for free in @serpentinegreen today we even have forza to play while you wait  @dgmnorth @…', 'rt @oompaville: crazed idiot beats googly-eyed champion into sensual pulp?! | gorn #1 (htc vive vr): https://t.co/xcbsws6zm6 via @youtube', 'duck season coming to htc vive and oculus rift this month https://t.co/rmuea3w6bi', 'rt @virtualitizer: #microsoft selling tpcast for #htc vive in na, pre-orders now available #northamerica #wirelesstransmitter https://t.co/…', 'mindshow brings vr puppet theater to steam’s early access for htc vive https://t.co/iqh3i5nsiv #tech', 'these are the htc vive games launching in september https://t.co/t6cdqyuwsr https://t.co/mxyrm8vvlu', 'cmoar vr: un cine virtual para tu google cardboard / htc vive / oculus https://t.co/st2morvtx5 https://t.co/2fdvfjjpus', '@pennyncollins hi penny! mindshow only officially supports the htc vive.', '5 invaluable dev quotes from the new book blood, sweat, and pixels - https://t.co/is9tm8mage new book blood, swea... https://t.co/igngv0ky4t', 'fight the ice dragon in tales of glacier on htc vive https://t.co/4cex6hblrj https://t.co/lbhmymy5fo', '5 invaluable dev quotes from the new book blood, sweat, and pixels - https://t.co/lgeeytg7fg new book blood, swea... https://t.co/s6sxqcii58', 'microsoft selling tpcast for htc vive in na, pre-orders now available @vrfocus https://t.co/kbl5fx3rb9', 'oculus rift is catching up with htc vive on steam https://t.co/afy7ix59du #videogames #gaming #gameplay', 'mindshow brings vr puppet theater to steam’s early access for htc vive https://t.co/oyebtgfp8w https://t.co/tndfs7sbeo', 'cmoar vr: un cine virtual para tu google cardboard / htc vive / oculus https://t.co/ysveywxhnf https://t.co/2h9tzvmcah']\n"
     ]
    }
   ],
   "source": [
    "relevante=0\n",
    "frases_rel=[]\n",
    "df_teste=pd.read_excel(\"vive_teste.xlsx\")\n",
    "df_teste[\"Relevância\"].value_counts()\n",
    "for i in range(len(df_teste)):\n",
    "    if relevance_checker(df_teste[\"Teste\"][i])[0]==\"RELEVANTE\" and df_teste[\"Teste\"][i] not in frases_rel :\n",
    "        relevante+=1\n",
    "        frases_rel.append(df_teste[\"Teste\"][i])\n",
    "        \n",
    "print(relevante)       \n",
    "print(frases_rel)"
   ]
  },
  {
   "cell_type": "code",
   "execution_count": 23,
   "metadata": {},
   "outputs": [
    {
     "name": "stdout",
     "output_type": "stream",
     "text": [
      "spartaga vr - announcement trailer 2017【htc vive, oculus rift】house of how https://t.co/yvirr3aepm\n",
      "these are the htc vive games launching in september https://t.co/lxycstsne6\n",
      "rt @rickking16: watch \"tomb raider in virtual reality! | tomb raider #vr: dagger of xian (htc vive gameplay)\" on youtube https://t.co/krwtu…\n",
      "rt @rtovr: [don't miss] htc vive gets major price cut, now $600 https://t.co/gvxsabquph @htcvive @agraylin @obriend17 https://t.co/hvxsy3li…\n",
      "#let'splay #thebellows on \"htcvive https://t.co/r9tc6atkgg via @youtube #scary\n",
      "#horror #creepy #vive #htc #vr #virtualreality #steam #spooky\n",
      "face-off against a giant ice dragon in @htcvive title tales of glacier - https://t.co/2txzlpb6jn https://t.co/kcn3jvilon\n",
      "mindshow brings vr puppet theater to steam’s early access for htc vive |  https://t.co/uavioow4hg https://t.co/end9acuzrv\n",
      "rt @shahidkamal: chimera zero. for psvr, oculus rift and htc vive. tech demo currently runs on psvr and rift. this is not your daddy’s chim…\n",
      "htc shares rebounds on back of vive vr enthusiasm https://t.co/gdwuxwagac\n",
      "the very creepy looking duck season is out for htc vive &amp; oculus rift on 14th september - thesixthaxis https://t.co/3mzhajie66\n",
      "report: htc could sell off its vive virtual reality division https://t.co/esz5oqqeqw https://t.co/ijh4xdnds3\n",
      "rt @androlizer: #microsoft selling tpcast for #htc vive in na, pre-orders now available #northamerica #wirelesstransmitter https://t.co/dwt…\n",
      "rt @vrfocus: microsoft selling tpcast for @htcvive in na, pre-orders now available: https://t.co/1jbwcso8wc https://t.co/6dryazq3ym\n",
      "rt @exp_engine: htc drops price of vive by $200 as it looks to compete with facebook’s aggressive vr pricing #technews\n",
      "https://t.co/qelgqm3…\n",
      "rt @naturlborngamer: “oculus rift vs. htc vive: prices are lower, but our favorite remains the same https://t.co/rjab7m2izc #vr https://t.c…\n",
      "i liked a @youtube video https://t.co/mldelghvxh scarier than it looks | the cubicle (htc vive virtual reality)\n",
      "cat sorter vr transforms your htc vive into a chaotic feline assembly line\n",
      "https://t.co/kysebwnyq1 https://t.co/dk3xlp27bk\n",
      "htc vive virtual reality headset https://t.co/s70znlcjeo #htc #headset https://t.co/rynkij2j26\n",
      "#games #gaming #mmo duck season coming to htc vive and oculus rift this month https://t.co/guj23ktdqs https://t.co/htgzzhgfje\n",
      "virtual reality forces\n",
      "\n",
      "sale prices and free shipping\n",
      "\n",
      "tag a friend who w ... https://t.co/pyiu8ec8zf https://t.co/7nuxcc8dvi\n",
      "i liked a @youtube video https://t.co/ye01sdq2ek secret gladiator move unlocked! - gorn funny moments (htc vive vr game)\n",
      "i liked a @youtube video https://t.co/kslp4usnpf how i record and live stream vr with the htc vive!\n",
      "[don't miss] htc vive gets major price cut, now $600 https://t.co/gvxsabquph @htcvive @agraylin @obriend17 https://t.co/hvxsy3li5a\n",
      "what the f#@ is that? | let's play the bellows vr experience on htc vive: https://t.co/hyatymqnan via @youtube\n",
      "microsoft selling tpcast for @htcvive in na, pre-orders now available: https://t.co/1jbwcso8wc https://t.co/ygm3wcnuo0\n",
      "i liked a @youtube video https://t.co/pfb1r43xil the crooked man?? | the conjuring 2: visions 360 htc vive vr experience\n",
      "mindshow brings vr puppet theater to steam's early access for htc vive via @startupinfo4you https://t.co/gh0sznwv1r\n",
      "how to make your htc vive display clearer with supersampling! https://t.co/6ogo8tp9zi https://t.co/sk3mnwxgc3\n",
      "cmoar vr: un cine virtual para tu google cardboard / htc vive / oculus https://t.co/oxlaz12drb\n",
      "rt @akanoodles: fight the ice dragon in tales of glacier on htc vive https://t.co/0hqckxwaxt #vr #mr #ar #microsoft #oculus #htc https://t.…\n",
      "mindshow brings vr puppet theater to steam’s ... - https://t.co/efoibncemm - ... https://t.co/cc7zpn1ryb\n",
      "rt @htcesports: the epic 1v1 finale of htc trials is here! find out who takes home a vive and the title of htc trials champion.\n",
      "\n",
      "https://t.…\n",
      "i got featured :3\n",
      "https://t.co/qyu1dna3b1 via @htxtafrica\n",
      "these are the htc vive games launching in september https://t.co/3j4x7u816x via windows central https://t.co/2iebchntli\n",
      "what if apple bought the vive off htc https://t.co/iuluo492uz\n",
      "if this week goes well i might\n",
      "my dad already has the htc vive and the oculus back home though could just wait him… https://t.co/rjdqplzttp\n",
      "retweeted htc vive (@htcvive):\n",
      "\n",
      "last chance at #paxwest today to take part in our #vrtreasurehunt - you could win... https://t.co/qynkitcd9d\n",
      "mindshow brings #vr puppet theater to steam’s early access for htc #vive\n",
      "https://t.co/mpquekg1iz https://t.co/ye1wluth5p\n",
      "@fatkiddeals i'm sick of seeing ads for the oculus, htc vive is the way to go.\n",
      "\n",
      "use revive and access all the oculus store games, perf. 👌\n",
      "these are the htc vive games launching in september https://t.co/icqmenqir5\n",
      "i liked a @youtube video https://t.co/0ds7ufy41e too much weird | accounting (htc vive virtual reality)\n",
      "pre-orders now available to buy a tpcast if you're in the us thanks to microsoft! https://t.co/nec9dmqtbq #vr… https://t.co/h6l2tk45vl\n",
      "watch \"tomb raider in virtual reality! | tomb raider #vr: dagger of xian (htc vive gameplay)\" on youtube… https://t.co/ckxcsh0vcs\n",
      "i liked a @youtube video https://t.co/scsizkiv8z crazed idiot beats googly-eyed champion into sensual pulp?! | gorn #1 (htc vive vr)\n",
      "#htc vive\n",
      "[65214414] ¥64,800\n",
      "#じゃんぱら #じゃんぱら名古屋大須店 #中古 https://t.co/bk4afnwm3v https://t.co/5vqjrcnulm\n",
      "rt @joshog: it's time to get #virtualog homies! get your hands on one of two htc vive's this month!\n",
      "\n",
      "enter: https://t.co/qqhtsisnom https:/…\n",
      "dcs world 2 - a10c live stream with deadstick - htc vive: https://t.co/lb6heasfrd via @youtube\n",
      "cyberpowerpc gamer xtreme gxivr2400a desktop &amp; htc vive virtual reality system bundle - https://t.co/y2wyblf53y\n",
      "sorrow pain &amp; anguish | gorn #5 (htc vive virtual reality) https://t.co/4kgyu5pylh https://t.co/ldnxixflcn\n",
      "rt @newegg: enter the newegg #paxeast @htcvive &amp; @intelgaming giveaway to win a vive vr headset &amp; i7-7700k kaby lake cpu ► https://t.co/9oq…\n",
      "the leaders in vr headsets htc has now reduced the price by $200 on the award winning vive headset, its now $754.56… https://t.co/rd3lvpuqc4\n",
      "@netnobody yo could you help me buy an htc vive bro\n",
      "@terriedenman @captainplanetow how can the world be real if i'm not hooked up to my htc vive rn\n",
      "the very creepy looking duck season is out for htc vive &amp; oculus rift on 14th september https://t.co/hx1mjtsocd\n",
      "rt @rickking16: headmaster gets a surprise launch on oculus rift and htc vive https://t.co/robikjmsfm #vr https://t.co/1izmpryg0k\n",
      "#paxwest is over (noo!) but someone out there has won an htc vive &amp; alienware13 (yay!) follow @htcvive to find out who in the coming weeks.\n",
      "i liked a @youtube video https://t.co/wrzybu7y4l [delta six] call of duty vr zombies - oculus rift / htc vive\n",
      "i liked a @youtube video https://t.co/xznktaxqpk scarier than it looks | the cubicle (htc vive virtual reality)\n",
      "tiny town vr gameplay - vr htc vive https://t.co/bgwapuljju\n",
      "rt @rikardsteiber: news: htc vive is announcing the first swedish vr lab initiative with leading accelerators. :) @htcvive  #sthlmtech @htc…\n",
      "tpcast wireless vive accessory available for pre-order in europe  https://t.co/senecmyvr9 via @uploadvr \n",
      "\n",
      "#vr… https://t.co/yi4cnz283s\n",
      "sooooo. my htc vive might arrive tomorrow. which means i'll do tons of vr stuff. and possibly write about it. most likely. definitely.\n",
      "dodge this – superhot vr (htc vive) https://t.co/09wex5wfdi https://t.co/hmchrvirig\n",
      "rt @zotaccup: zotac, @htcvive ,&amp; @bigboxvr are partnering up' for a vr esports event  at computex\n",
      "\n",
      "win a full vr setup!! 🔥\n",
      "\n",
      "enter: https://…\n",
      "htc vive virtual reality headset https://t.co/yx0u9zzedq #htc #headset https://t.co/xm8pnxodp3\n",
      "what the f#@ is that? | let's play the bellows full vr experience on htc vive https://t.co/w15c07s3ew\n",
      "i liked a @youtube video https://t.co/rsvgnprz3z vr super spy! - i expect you to die gameplay - virtual reality htc vive\n",
      "liked on youtube: tomb raider in virtual reality! | tomb raider vr: dagger of xian (htc vive gameplay) https://t.co/38gl554j7w\n",
      "cmoar vr: un cine virtual para tu google cardboard / htc vive / oculus https://t.co/8b0z1twzaj https://t.co/vnpiwx6qv6\n",
      "rt @3dprintmaven: store and charge your htc vive with this 3d printed wall mount - https://t.co/bz9xoaexb6 #3dprinting https://t.co/qeqwrrb…\n",
      "“chimera zero” announced for psvr/oculus rift/htc vive https://t.co/tie9dtxrnq https://t.co/yywq4bpsd1\n",
      "rt @video360_club: new vr-game : disassembled vr\n",
      " #vr #vrигра #игра #обзор #видеообзор #oculus #rift #htc #vive #samsung #gear #vr https://…\n",
      "rt @alienware: join the vr treasure hunt here at #paxwest2017 for a chance to win a new vr-ready aw13 laptop + vive!\n",
      "details at: https://t.…\n",
      "stress level zero’s duck season flies onto htc vive this month https://t.co/tx6csvr95g\n",
      "i liked a @youtube video https://t.co/6enxtg28wx secret agent jack | i expect you to die (htc vive virtual reality)\n",
      "@ifooya htc vive is def worth the couple $100's more\n",
      "rt @htcesports: enjoying the #ti7 action? to celebrate we're giving away an @htcvive plus @cloud9 and @teamliquid t-shirts!\n",
      "\n",
      "link: https://…\n",
      "news: a mega-thread on twitter revealed the cool tricks and lies of game dev - https://t.co/hh4zb4dinx good kind ... https://t.co/0dw7uqorma\n",
      "rick king: headmaster gets a surprise launch on oculus rift and htc vive https://t.co/s9yxa1tifg  #vr https://t.co/kg9d3disro\n",
      "who needs an htc vive when you've got this? https://t.co/oijm78klyi\n",
      "@flamesatgames i know this was a year ago but maybe you just said \"no i didn't order a htc vive\" on the email then reordered it\n",
      "giant gladiators!! - gorn gameplay - htc vive vr: https://t.co/7ewvpjmncj via @youtube\n",
      "blasters of the universe: vr bullet hell gameplay from the full release with htc vive via /r/vive… https://t.co/mzgb4tnjvt\n",
      "i liked a @youtube video https://t.co/11pbtaepey tomb raider in virtual reality! | tomb raider vr: dagger of xian (htc vive gameplay)\n",
      "who's into free htc vive? #meetingsinglegirls\n",
      "rt @lilyotron: \"as someone who has been in the software industry for almost a decade, i think it’s amazing how good it works\" https://t.co/…\n",
      "taphouse vr coming this october to htc vive! https://t.co/ruzaxbbmh9\n",
      "rt @ayushimehta22: htc vive reduces price by rs 16,000, making the best virtual reality system more accessible… https://t.co/ijmxebgixj htt…\n",
      "microsoft selling tpcast for @htcvive in na, pre-orders now available: https://t.co/1jbwcso8wc https://t.co/6dryazq3ym\n",
      "https://t.co/luiodtnnxm - lego batman movie in vr! | batmersive vr 360° experience  - htc vive virtual reality\n",
      "the… https://t.co/jxesvwvdzj\n",
      "@htcvive hi! is there any way to trial htc vive at the upcoming egx 2017 expo?\n",
      "just played spacepirates in the htc vive. https://t.co/wpmmml6mye\n",
      "store and charge your htc vive with this 3d printed wall mount - https://t.co/bz9xoaexb6 #3dprinting… https://t.co/hhgol2mcja\n",
      "htc cuts the vive vr headset's price to $599\n",
      "https://t.co/m773vc1qlr https://t.co/onpatfaexg\n",
      "fight the ice dragon in tales of glacier on htc vive https://t.co/0hqckxwaxt #vr #mr #ar #microsoft #oculus #htc https://t.co/u1gysljbtu\n",
      "i liked a @youtube video https://t.co/xhd2pfm8vw prostate examinator - superhot vr - htc vive\n",
      "rt @ilovecarejosha1: #let'splay #thebellows on \"htcvive https://t.co/qh731e0xnw via @youtube #scary\n",
      "#horror #creepy #vive #htc #vr #virtua…\n",
      "these are the htc vive games launching in september https://t.co/xt8hszamsj #apple\n",
      "i liked a @youtube video https://t.co/ogu7fgtxaz it's time for some real fun in prison!!! - prison boss vr (vr htc vive gameplay)\n",
      "rt @bryanbma: the star wars exhibit at ion orchard has two htc vive &amp; zotac-based vr booths. couldn't do much in the game aside from move b…\n",
      "rt @cappasity: cappasity vr shopping is coming to htc vive in 2016 #htcvive #vr #ecommerce @htcvive https://t.co/detxxpxnex\n",
      "htc vive amazon https://t.co/2hcjknjbqn\n",
      "fight the ice dragon in tales of glacier on htc vive https://t.co/za14ag23rn https://t.co/6mtl6ifskg\n",
      "i liked a @youtube video https://t.co/xh88sdixzo htc vive deluxe audio strap unboxing, setup, overview &amp; stress testing in vr games\n",
      "rt @xgamecrawlx: https://t.co/luiodtnnxm - lego batman movie in vr! | batmersive vr 360° experience  - htc vive virtual reality\n",
      "the batusi…\n",
      "rt @rickking16: watch \"rowdy joins the walking dead in vr! | out of ammo: death drive - htc vive gameplay\" on youtube https://t.co/b4jsuj8z…\n",
      "i liked a @youtube video https://t.co/k2bzchiujy which is the best vr head set for racing simulators ? - rift vs htc vive\n",
      "htc is giving away a vive to celebrate the international dota 2 championships  https://t.co/gwoipgsdxs virtual reality vrgaming\n",
      "duck season coming to htc vive and oculus rift this month - mmorpg news https://t.co/nsryabvngk\n",
      "man, i've got a $1000 htc vive and not a good enough computer to run it #firstworldproblems haha lol\n",
      "these are the htc vive games launching in september - here's what's new for the htc vive for september 2017! a ... https://t.co/acncwpqlk8\n",
      "i added a video to a @youtube playlist https://t.co/bj8c9euqgr wubba lubba dub dub | rick and morty vr #1 (htc vive virtual reality)\n",
      "these are the htc vive games launching in september https://t.co/wlxpdhr0n6 https://t.co/epgp62tln0\n",
      "how to make your htc vive display clearer with supersampling! -  https://t.co/4gnjvhfkg3 https://t.co/0lgrd09vow\n",
      "the very creepy looking duck season is out for htc vive &amp; oculus rift on 14th september - thesixthaxis: https://t.co/mfum2vrfdb\n",
      "island 359 vr – game trailer 2017【htc vive, oculus rift】cloudgate studio, inc. https://t.co/ozlb5q5m5z https://t.co/8gxl18jtib\n",
      "@cionet1019 are you gonna do htc vive again? https://t.co/nklpucoczw\n",
      "can you directly view iso/3d iso on htc vive? \n",
      "the following post will show you how to play #iso/#3diso in #htcvive: https://t.co/iqpcbbvkfj\n",
      "new spooky htc vive video is now live! go have a look! :)\n",
      "\n",
      "https://t.co/cehpgkaexj\n",
      "live htc vive unboxing &amp; playtesting later over at :d\n",
      "@johndedomenici @hcjustinn htc vive, currently relative best vr headset and gear out there\n",
      "what the f#@ is that? | let's play the bellows full vr experience on htc vive https://t.co/jtk20he8za\n",
      "workmans comp | mindshow vr | htc vive: https://t.co/b1co8xwpq6 via @youtube\n",
      "anyone using htc vive controllers without the headset as an input device option? #seriousgames #gamedev #vr\n",
      "projectm: daydream vr – video game trailer 2017【htc vive, oculus rift】evr studio https://t.co/xn623t4hxp https://t.co/2kygnhpdwm\n",
      "i liked a @youtube video https://t.co/kwiiolrvaf rowdy joins the walking dead in vr! | out of ammo: death drive - htc vive gameplay\n",
      "#microsoft selling tpcast for #htc vive in na, pre-orders now available #northamerica #wirelesstransmitter… https://t.co/mltdodjk3a\n",
      "htc vive vr games!: https://t.co/o0zwycwpo2 via @youtube\n",
      "cyberpowerpc gamer xtreme vr gxivr8040a desktop &amp; htc vive virtual reality system bundle - https://t.co/ywhp7xxtqx\n",
      "rt @vrfocus: microsoft selling tpcast for @htcvive in na, pre-orders now available: https://t.co/1jbwcso8wc https://t.co/ygm3wcnuo0\n",
      "hunterdeals: htc vive vr $899.10 delivered @ microsoft store on ebay https://t.co/p84oi0xghb\n",
      "mindshow brings vr puppet theater to steam’s early access for htc vive #vr #virtualreality\n",
      "\n",
      "https://t.co/qbipcwidzi via @venturebeat\n",
      "new vr-game : tomb raider vr\n",
      " #vr #vrигра #игра #обзор #видеообзор #oculus #rift #htc #vive #samsung #gear #vr https://t.co/5kf9zn4ofm\n",
      "i liked a @youtube video https://t.co/tzhvht3mxu prostate examinator - superhot vr - htc vive\n",
      "these are the htc vive games launching in september https://t.co/dc80ouvdrs\n",
      "microsoft selling tpcast for htc vive in na, pre-orders now available https://t.co/jjmv5t1s97 https://t.co/3linbjqpnh\n",
      "rt @ericbond007: htc vive roomscale vr: i play raw data in my vr room.https://t.co/w9mmyrxmic\n",
      "26 vr startups debut at htc's vive demo day | venturebeat | ar/vr ... - venturebeat #3dtools #euvr: https://t.co/pqd3kpfcoi\n",
      "htc vive reduces price by rs 16,000, making the best virtual reality system more accessible to the mass market https://t.co/c3ysfkhtvi\n",
      "the leaders in vr headsets htc has now reduced the price by $200 on the award winning vive headset, its now $754.56… https://t.co/70fyhuntfe\n",
      "#microsoft selling tpcast for #htc vive in na, pre-orders now available #northamerica #wirelesstransmitter… https://t.co/rfjpxjbtpo\n",
      "these are the htc vive games launching in september https://t.co/2svgosh8fg #news #apple https://t.co/jv4ygyccnv\n",
      "rt @techdeals_16: htc vive - now discounted to $599 - https://t.co/ssqcxy7rzp\n",
      "i added a video to a @youtube playlist https://t.co/rbtkijiid9 elite dangerous (vr galaxy map / controls) - htc vive\n",
      "infinity assassin vr – game trailer 2017【htc vive】mammossix co,. ltd. https://t.co/aqvemf6lja https://t.co/o36grx6ln4\n",
      "“16 bit fighter vr” announced for htc vive/oculus rift/playstation vr https://t.co/uttxtktq0q https://t.co/yxhjeadtes\n",
      "rt @gamehampton: try the oculus rift and htc vive for free in @serpentinegreen today we even have forza to play while you wait  @dgmnorth @…\n",
      "rt @oompaville: crazed idiot beats googly-eyed champion into sensual pulp?! | gorn #1 (htc vive vr): https://t.co/xcbsws6zm6 via @youtube\n",
      "duck season coming to htc vive and oculus rift this month https://t.co/rmuea3w6bi\n",
      "rt @virtualitizer: #microsoft selling tpcast for #htc vive in na, pre-orders now available #northamerica #wirelesstransmitter https://t.co/…\n",
      "mindshow brings vr puppet theater to steam’s early access for htc vive https://t.co/iqh3i5nsiv #tech\n",
      "these are the htc vive games launching in september https://t.co/t6cdqyuwsr https://t.co/mxyrm8vvlu\n",
      "cmoar vr: un cine virtual para tu google cardboard / htc vive / oculus https://t.co/st2morvtx5 https://t.co/2fdvfjjpus\n",
      "@pennyncollins hi penny! mindshow only officially supports the htc vive.\n",
      "5 invaluable dev quotes from the new book blood, sweat, and pixels - https://t.co/is9tm8mage new book blood, swea... https://t.co/igngv0ky4t\n",
      "fight the ice dragon in tales of glacier on htc vive https://t.co/4cex6hblrj https://t.co/lbhmymy5fo\n",
      "5 invaluable dev quotes from the new book blood, sweat, and pixels - https://t.co/lgeeytg7fg new book blood, swea... https://t.co/s6sxqcii58\n",
      "microsoft selling tpcast for htc vive in na, pre-orders now available @vrfocus https://t.co/kbl5fx3rb9\n",
      "oculus rift is catching up with htc vive on steam https://t.co/afy7ix59du #videogames #gaming #gameplay\n",
      "mindshow brings vr puppet theater to steam’s early access for htc vive https://t.co/oyebtgfp8w https://t.co/tndfs7sbeo\n",
      "cmoar vr: un cine virtual para tu google cardboard / htc vive / oculus https://t.co/ysveywxhnf https://t.co/2h9tzvmcah\n"
     ]
    }
   ],
   "source": [
    "for i in range(len(frases_rel)):\n",
    "    print(frases_rel[i])"
   ]
  },
  {
   "cell_type": "markdown",
   "metadata": {
    "collapsed": true
   },
   "source": [
    "___\n",
    "## Concluindo\n",
    "\n",
    "Escreva aqui a sua conclusão.<br /> \n",
    "Faça um comparativo qualitativo sobre as medidas obtidas.<br />\n",
    "Explique como são tratadas as mensagens com dupla negação e sarcasmo.<br />\n",
    "Proponha um plano de expansão. Por que eles devem continuar financiando o seu projeto?<br />\n",
    "\n",
    "Opcionalmente: \n",
    "* Discorrer por que não posso alimentar minha base de Treinamento automaticamente usando o próprio classificador, aplicado a novos tweets.\n",
    "* Propor diferentes cenários de uso para o classificador Naive-Bayes. Cenários sem intersecção com este projeto.\n",
    "* Sugerir e explicar melhorias reais no classificador com indicações concretas de como implementar (não é preciso codificar, mas indicar como fazer e material de pesquisa sobre o assunto).\n"
   ]
  },
  {
   "cell_type": "code",
   "execution_count": null,
   "metadata": {
    "collapsed": true
   },
   "outputs": [],
   "source": []
  },
  {
   "cell_type": "code",
   "execution_count": null,
   "metadata": {
    "collapsed": true
   },
   "outputs": [],
   "source": []
  },
  {
   "cell_type": "code",
   "execution_count": null,
   "metadata": {
    "collapsed": true
   },
   "outputs": [],
   "source": []
  }
 ],
 "metadata": {
  "kernelspec": {
   "display_name": "Python 3",
   "language": "python",
   "name": "python3"
  },
  "language_info": {
   "codemirror_mode": {
    "name": "ipython",
    "version": 3
   },
   "file_extension": ".py",
   "mimetype": "text/x-python",
   "name": "python",
   "nbconvert_exporter": "python",
   "pygments_lexer": "ipython3",
   "version": "3.6.1"
  }
 },
 "nbformat": 4,
 "nbformat_minor": 1
}
